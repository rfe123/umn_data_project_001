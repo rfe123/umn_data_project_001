{
 "cells": [
  {
   "cell_type": "code",
   "execution_count": 18,
   "metadata": {},
   "outputs": [
    {
     "name": "stdout",
     "output_type": "stream",
     "text": [
      "     Person ID  Gender  Age            Occupation  Sleep Duration  \\\n",
      "0            1    Male   27     Software Engineer             6.1   \n",
      "1            2    Male   28                Doctor             6.2   \n",
      "2            3    Male   28                Doctor             6.2   \n",
      "3            4    Male   28  Sales Representative             5.9   \n",
      "4            5    Male   28  Sales Representative             5.9   \n",
      "..         ...     ...  ...                   ...             ...   \n",
      "369        370  Female   59                 Nurse             8.1   \n",
      "370        371  Female   59                 Nurse             8.0   \n",
      "371        372  Female   59                 Nurse             8.1   \n",
      "372        373  Female   59                 Nurse             8.1   \n",
      "373        374  Female   59                 Nurse             8.1   \n",
      "\n",
      "     Quality of Sleep  Physical Activity Level  Stress Level BMI Category  \\\n",
      "0                   6                       42             6   Overweight   \n",
      "1                   6                       60             8       Normal   \n",
      "2                   6                       60             8       Normal   \n",
      "3                   4                       30             8   Overweight   \n",
      "4                   4                       30             8   Overweight   \n",
      "..                ...                      ...           ...          ...   \n",
      "369                 9                       75             3   Overweight   \n",
      "370                 9                       75             3   Overweight   \n",
      "371                 9                       75             3   Overweight   \n",
      "372                 9                       75             3   Overweight   \n",
      "373                 9                       75             3   Overweight   \n",
      "\n",
      "    Blood Pressure  Heart Rate  Daily Steps Sleep Disorder  Systolic  \\\n",
      "0           126/83          77         4200   No Diagnosis       126   \n",
      "1           125/80          75        10000   No Diagnosis       125   \n",
      "2           125/80          75        10000   No Diagnosis       125   \n",
      "3           140/90          85         3000    Sleep Apnea       140   \n",
      "4           140/90          85         3000    Sleep Apnea       140   \n",
      "..             ...         ...          ...            ...       ...   \n",
      "369         140/95          68         7000    Sleep Apnea       140   \n",
      "370         140/95          68         7000    Sleep Apnea       140   \n",
      "371         140/95          68         7000    Sleep Apnea       140   \n",
      "372         140/95          68         7000    Sleep Apnea       140   \n",
      "373         140/95          68         7000    Sleep Apnea       140   \n",
      "\n",
      "     Diastolic  \n",
      "0           83  \n",
      "1           80  \n",
      "2           80  \n",
      "3           90  \n",
      "4           90  \n",
      "..         ...  \n",
      "369         95  \n",
      "370         95  \n",
      "371         95  \n",
      "372         95  \n",
      "373         95  \n",
      "\n",
      "[374 rows x 15 columns]\n"
     ]
    },
    {
     "data": {
      "text/plain": [
       "array(['Overweight', 'Normal'], dtype=object)"
      ]
     },
     "execution_count": 18,
     "metadata": {},
     "output_type": "execute_result"
    }
   ],
   "source": [
    "import matplotlib.pyplot as plt\n",
    "\n",
    "\n",
    "import numpy as np\n",
    "import pandas as pd\n",
    "import requests\n",
    "from pprint import pprint\n",
    "\n",
    "#Does BMI Have Effect on Physical, Sleep, or Stress\n",
    "\n",
    "life_health_df =pd.read_csv('../Resources/cleaned_dataset.csv')\n",
    "\n",
    "#Replace BMI Descriptions\n",
    "\n",
    "def clean_BMI_descrip(df):\n",
    "    ser = df[\"BMI Category\"].copy()\n",
    "    for i in range(len(ser)):\n",
    "        BMI_value=str(ser.iloc[i])\n",
    "        if \"Normal Weight\" in BMI_value:\n",
    "            ser.iloc[i]= \"Normal\"\n",
    "        elif \"Obese\" in BMI_value:\n",
    "            ser.iloc[i] = \"Overweight\"\n",
    "    df[\"BMI Category\"] = ser\n",
    "\n",
    "clean_BMI_descrip(life_health_df)\n",
    "\n",
    "pprint (life_health_df)\n",
    "\n",
    "life_health_df[\"BMI Category\"].unique()\n",
    "\n",
    "\n",
    "\n",
    "\n",
    "#Physical\n",
    "\n",
    "\n",
    "\n",
    "\n"
   ]
  }
 ],
 "metadata": {
  "kernelspec": {
   "display_name": "Python 3",
   "language": "python",
   "name": "python3"
  },
  "language_info": {
   "codemirror_mode": {
    "name": "ipython",
    "version": 3
   },
   "file_extension": ".py",
   "mimetype": "text/x-python",
   "name": "python",
   "nbconvert_exporter": "python",
   "pygments_lexer": "ipython3",
   "version": "3.10.13"
  }
 },
 "nbformat": 4,
 "nbformat_minor": 2
}
